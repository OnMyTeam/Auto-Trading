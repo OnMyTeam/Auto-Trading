{
 "cells": [
  {
   "cell_type": "code",
   "execution_count": 16,
   "metadata": {},
   "outputs": [],
   "source": [
    "import sys, os\n",
    "sys.path.insert(0,'F:/BitCoinDev/')\n",
    "\n"
   ]
  },
  {
   "cell_type": "code",
   "execution_count": 17,
   "metadata": {},
   "outputs": [
    {
     "data": {
      "text/plain": [
       "'F:\\\\BitCoinDev\\\\BitCoinDev_Pycharm'"
      ]
     },
     "execution_count": 17,
     "metadata": {},
     "output_type": "execute_result"
    }
   ],
   "source": [
    "os.chdir('/BitCoinDev/BitCoinDev_Pycharm/')\n",
    "os.path.abspath(os.curdir)"
   ]
  },
  {
   "cell_type": "code",
   "execution_count": 35,
   "metadata": {},
   "outputs": [
    {
     "name": "stdout",
     "output_type": "stream",
     "text": [
      "[{'second': 19, 'minute': 56, 'total': '903643', 'timestamp': 1531040179.0, 'Currency_Trade': 'Bithumb', 'hour': 17, 'day': 8, 'price': '181', 'cointype': 'ADA', 'cont_no': '167039', 'units_traded': '4992.5', 'type': 'ask', 'transaction_date': '2018-07-08 17:56:19', 'month': 7, '_id': ObjectId('5b41d1c80f1cc2296002a715'), 'year': 2018}, {'second': 50, 'minute': 54, 'total': '5824', 'timestamp': 1531040090.0, 'Currency_Trade': 'Bithumb', 'hour': 17, 'day': 8, 'price': '182', 'cointype': 'ADA', 'cont_no': '167038', 'units_traded': '32.0', 'type': 'bid', 'transaction_date': '2018-07-08 17:54:50', 'month': 7, '_id': ObjectId('5b41d1c80f1cc2296002a716'), 'year': 2018}, {'second': 44, 'minute': 52, 'total': '487323', 'timestamp': 1531039964.0, 'Currency_Trade': 'Bithumb', 'hour': 17, 'day': 8, 'price': '182', 'cointype': 'ADA', 'cont_no': '167037', 'units_traded': '2677.598901', 'type': 'bid', 'transaction_date': '2018-07-08 17:52:44', 'month': 7, '_id': ObjectId('5b41d1c80f1cc2296002a717'), 'year': 2018}, {'second': 8, 'minute': 1, 'total': '203812', 'timestamp': 1531040468.0, 'cointype': 'ADA', 'Currency_Trade': 'Bithumb', 'hour': 18, 'day': 8, 'price': '183', 'month': 7, 'cont_no': '167049', 'units_traded': '1113.728878', 'type': 'bid', 'transaction_date': '2018-07-08 18:01:08', '_id': ObjectId('5b41d31a0f1cc2045c81ef52'), 'year': 2018}, {'second': 8, 'minute': 1, 'total': '5286188', 'timestamp': 1531040468.0, 'cointype': 'ADA', 'Currency_Trade': 'Bithumb', 'hour': 18, 'day': 8, 'price': '183', 'month': 7, 'cont_no': '167048', 'units_traded': '28886.271122', 'type': 'bid', 'transaction_date': '2018-07-08 18:01:08', '_id': ObjectId('5b41d31a0f1cc2045c81ef53'), 'year': 2018}, {'second': 49, 'minute': 59, 'total': '183000', 'timestamp': 1531040389.0, 'cointype': 'ADA', 'Currency_Trade': 'Bithumb', 'hour': 17, 'day': 8, 'price': '183', 'month': 7, 'cont_no': '167047', 'units_traded': '1000.0', 'type': 'bid', 'transaction_date': '2018-07-08 17:59:49', '_id': ObjectId('5b41d31a0f1cc2045c81ef54'), 'year': 2018}, {'second': 8, 'minute': 1, 'total': '203812', 'timestamp': 1531040468.0, 'Currency_Trade': 'Bithumb', 'hour': 18, 'day': 8, 'price': '183', 'cointype': 'ADA', 'cont_no': '167049', 'units_traded': '1113.728878', 'type': 'bid', 'transaction_date': '2018-07-08 18:01:08', 'month': 7, '_id': ObjectId('5b41d34e0f1cc24528e23e9a'), 'year': 2018}, {'second': 8, 'minute': 1, 'total': '5286188', 'timestamp': 1531040468.0, 'Currency_Trade': 'Bithumb', 'hour': 18, 'day': 8, 'price': '183', 'cointype': 'ADA', 'cont_no': '167048', 'units_traded': '28886.271122', 'type': 'bid', 'transaction_date': '2018-07-08 18:01:08', 'month': 7, '_id': ObjectId('5b41d34e0f1cc24528e23e9b'), 'year': 2018}, {'second': 49, 'minute': 59, 'total': '183000', 'timestamp': 1531040389.0, 'Currency_Trade': 'Bithumb', 'hour': 17, 'day': 8, 'price': '183', 'cointype': 'ADA', 'cont_no': '167047', 'units_traded': '1000.0', 'type': 'bid', 'transaction_date': '2018-07-08 17:59:49', 'month': 7, '_id': ObjectId('5b41d34e0f1cc24528e23e9c'), 'year': 2018}]\n"
     ]
    }
   ],
   "source": [
    "from autotrading.db.mongodb import mongodb_handler\n",
    "mongodb = mongodb_handler.MongoDBHandler(\"local\",\"coiner\",\"price_info\")\n",
    "\n",
    "query = {\n",
    "    \"cointype\":\"ADA\",\n",
    "    \"Currency_Trade\":\"Bithumb\",\n",
    "    \"year\" : 2018,\n",
    "    \"month\" : 7\n",
    "}\n",
    "result = mongodb.find_items(query)\n",
    "\n",
    "result = list(result)\n",
    "print(result)"
   ]
  },
  {
   "cell_type": "code",
   "execution_count": 53,
   "metadata": {},
   "outputs": [
    {
     "name": "stdout",
     "output_type": "stream",
     "text": [
      "1531040179.0    181\n",
      "1531040090.0    182\n",
      "1531039964.0    182\n",
      "1531040468.0    183\n",
      "1531040468.0    183\n",
      "1531040389.0    183\n",
      "1531040468.0    183\n",
      "1531040468.0    183\n",
      "1531040389.0    183\n",
      "dtype: object\n",
      "Float64Index([1531040179.0, 1531040090.0, 1531039964.0, 1531040468.0,\n",
      "              1531040468.0, 1531040389.0, 1531040468.0, 1531040468.0,\n",
      "              1531040389.0],\n",
      "             dtype='float64')\n",
      "특정 시점 이전의 모든 데이터 출력 1531040179.0    181\n",
      "1531040090.0    182\n",
      "1531039964.0    182\n",
      "1531040468.0    183\n",
      "1531040468.0    183\n",
      "1531040389.0    183\n",
      "1531040468.0    183\n",
      "1531040468.0    183\n",
      "1531040389.0    183\n",
      "dtype: object\n",
      "1531040179.0    362.0\n",
      "1531040090.0    364.0\n",
      "1531039964.0    364.0\n",
      "1531040468.0    366.0\n",
      "1531040468.0    366.0\n",
      "1531040389.0    366.0\n",
      "1531040468.0    366.0\n",
      "1531040468.0    366.0\n",
      "1531040389.0    366.0\n",
      "dtype: float64\n",
      "1531040179.0    362.0\n",
      "dtype: float64\n"
     ]
    }
   ],
   "source": [
    "import pandas as pd\n",
    "s = pd.Series([item[\"price\"] for item in result ], index=[item[\"timestamp\"] for item in result])\n",
    "pd.set_option('precision',12)\n",
    "print(s)\n",
    "print(s.index)\n",
    "\n",
    "# 특정 시점 이전의 모든 데이터 출력\n",
    "print(\"특정 시점 이전의 모든 데이터 출력\",s[1531040179:])\n",
    "# print(s+s)\n",
    "\n",
    "# astype메서드를 이용하여 데이터타입 변환 후 합 출력\n",
    "print(s.astype(float)+s.astype(float))\n",
    "\n",
    "# 특정범위의 값의 합\n",
    "print(s[:1531040179].astype(float)+s[:1531040179].astype(float))"
   ]
  }
 ],
 "metadata": {
  "kernelspec": {
   "display_name": "Python 3",
   "language": "python",
   "name": "python3"
  },
  "language_info": {
   "codemirror_mode": {
    "name": "ipython",
    "version": 3
   },
   "file_extension": ".py",
   "mimetype": "text/x-python",
   "name": "python",
   "nbconvert_exporter": "python",
   "pygments_lexer": "ipython3",
   "version": "3.5.5"
  }
 },
 "nbformat": 4,
 "nbformat_minor": 2
}
