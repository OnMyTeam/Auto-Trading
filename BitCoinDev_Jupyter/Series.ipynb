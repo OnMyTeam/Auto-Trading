{
 "cells": [
  {
   "cell_type": "code",
   "execution_count": 1,
   "metadata": {},
   "outputs": [],
   "source": [
    "import sys, os\n",
    "sys.path.insert(0,'F:/BitCoinDev/')\n",
    "\n"
   ]
  },
  {
   "cell_type": "code",
   "execution_count": 2,
   "metadata": {},
   "outputs": [
    {
     "name": "stdout",
     "output_type": "stream",
     "text": [
      "['F:/BitCoinDev/', '', 'c:\\\\miniconda3\\\\envs\\\\bitcoin\\\\python35.zip', 'c:\\\\miniconda3\\\\envs\\\\bitcoin\\\\DLLs', 'c:\\\\miniconda3\\\\envs\\\\bitcoin\\\\lib', 'c:\\\\miniconda3\\\\envs\\\\bitcoin', 'c:\\\\miniconda3\\\\envs\\\\bitcoin\\\\lib\\\\site-packages', 'c:\\\\miniconda3\\\\envs\\\\bitcoin\\\\lib\\\\site-packages\\\\IPython\\\\extensions', 'C:\\\\Users\\\\sangi\\\\.ipython']\n"
     ]
    },
    {
     "data": {
      "text/plain": [
       "'F:\\\\BitCoinDev\\\\BitCoinDev_Pycharm'"
      ]
     },
     "execution_count": 2,
     "metadata": {},
     "output_type": "execute_result"
    }
   ],
   "source": [
    "print(sys.path)\n",
    "os.chdir('/BitCoinDev/BitCoinDev_Pycharm/')\n",
    "os.path.abspath(os.curdir)"
   ]
  }
 ],
 "metadata": {
  "kernelspec": {
   "display_name": "Python 3",
   "language": "python",
   "name": "python3"
  },
  "language_info": {
   "codemirror_mode": {
    "name": "ipython",
    "version": 3
   },
   "file_extension": ".py",
   "mimetype": "text/x-python",
   "name": "python",
   "nbconvert_exporter": "python",
   "pygments_lexer": "ipython3",
   "version": "3.5.5"
  }
 },
 "nbformat": 4,
 "nbformat_minor": 2
}
