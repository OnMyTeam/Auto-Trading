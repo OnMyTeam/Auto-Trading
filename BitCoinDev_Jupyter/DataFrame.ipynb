{
 "cells": [
  {
   "cell_type": "code",
   "execution_count": 5,
   "metadata": {},
   "outputs": [
    {
     "data": {
      "text/plain": [
       "'F:\\\\BitCoinDev\\\\BitCoinDev_Pycharm'"
      ]
     },
     "execution_count": 5,
     "metadata": {},
     "output_type": "execute_result"
    }
   ],
   "source": [
    "import sys, os\n",
    "import pandas as pd\n",
    "sys.path.insert(0,'F:/BitCoinDev/')\n",
    "os.chdir('/BitCoinDev/BitCoinDev_Pycharm/')\n",
    "os.path.abspath(os.curdir)\n"
   ]
  },
  {
   "cell_type": "code",
   "execution_count": 62,
   "metadata": {},
   "outputs": [
    {
     "name": "stdout",
     "output_type": "stream",
     "text": [
      "[{'cointype': 'ADA', 'hour': 18, 'type': 'bid', 'second': 42, 'timestamp': 1531041402.0, 'price': '182', 'month': 7, 'Currency_Trade': 'Bithumb', 'minute': 16, 'total': '1946516', '_id': ObjectId('5b41d6980f1cc2461c60140f'), 'units_traded': '10695.1428', 'amount': '10695.1428', 'transaction_date': '2018-07-08 18:16:42', 'day': 8, 'year': 2018, 'cont_no': '167057'}, {'cointype': 'ADA', 'hour': 18, 'type': 'bid', 'second': 52, 'timestamp': 1531041352.0, 'price': '182', 'month': 7, 'Currency_Trade': 'Bithumb', 'minute': 15, 'total': '41031', '_id': ObjectId('5b41d6980f1cc2461c601410'), 'units_traded': '225.4474', 'amount': '225.4474', 'transaction_date': '2018-07-08 18:15:52', 'day': 8, 'year': 2018, 'cont_no': '167056'}, {'cointype': 'ADA', 'hour': 18, 'type': 'bid', 'second': 52, 'timestamp': 1531041352.0, 'price': '182', 'month': 7, 'Currency_Trade': 'Bithumb', 'minute': 15, 'total': '17452', '_id': ObjectId('5b41d6980f1cc2461c601411'), 'units_traded': '95.888', 'amount': '95.888', 'transaction_date': '2018-07-08 18:15:52', 'day': 8, 'year': 2018, 'cont_no': '167055'}, {'cointype': 'ADA', 'hour': 18, 'type': 'ask', 'second': 38, 'timestamp': 1531041518.0, 'price': '181', 'month': 7, 'Currency_Trade': 'Bithumb', 'minute': 18, 'year': 2018, '_id': ObjectId('5b41d72b0f1cc2056841e0f7'), 'units_traded': '102.0', 'day': 8, 'transaction_date': '2018-07-08 18:18:38', 'cont_no': '167058', 'amount': '102.0', 'total': '18462'}, {'cointype': 'ADA', 'hour': 18, 'type': 'bid', 'second': 42, 'timestamp': 1531041402.0, 'price': '182', 'month': 7, 'Currency_Trade': 'Bithumb', 'minute': 16, 'year': 2018, '_id': ObjectId('5b41d72b0f1cc2056841e0f8'), 'units_traded': '10695.1428', 'day': 8, 'transaction_date': '2018-07-08 18:16:42', 'cont_no': '167057', 'amount': '10695.1428', 'total': '1946516'}, {'cointype': 'ADA', 'hour': 18, 'type': 'bid', 'second': 52, 'timestamp': 1531041352.0, 'price': '182', 'month': 7, 'Currency_Trade': 'Bithumb', 'minute': 15, 'year': 2018, '_id': ObjectId('5b41d72b0f1cc2056841e0f9'), 'units_traded': '225.4474', 'day': 8, 'transaction_date': '2018-07-08 18:15:52', 'cont_no': '167056', 'amount': '225.4474', 'total': '41031'}, {'Currency_Trade': 'Bithumb', 'hour': 18, 'type': 'bid', 'second': 11, 'timestamp': 1531042091.0, 'price': '182', 'month': 7, 'cointype': 'ADA', 'units_traded': '12061.93956', 'minute': 28, 'total': '2195273', '_id': ObjectId('5b41d9500f1cc246d8fc702c'), 'amount': '12061.93956', 'day': 8, 'transaction_date': '2018-07-08 18:28:11', 'year': 2018, 'cont_no': '167072'}, {'Currency_Trade': 'Bithumb', 'hour': 18, 'type': 'ask', 'second': 54, 'timestamp': 1531042074.0, 'price': '181', 'month': 7, 'cointype': 'ADA', 'units_traded': '21578.6768', 'minute': 27, 'total': '3905741', '_id': ObjectId('5b41d9500f1cc246d8fc702d'), 'amount': '21578.6768', 'day': 8, 'transaction_date': '2018-07-08 18:27:54', 'year': 2018, 'cont_no': '167071'}, {'Currency_Trade': 'Bithumb', 'hour': 18, 'type': 'ask', 'second': 54, 'timestamp': 1531042074.0, 'price': '181', 'month': 7, 'cointype': 'ADA', 'units_traded': '2366.0718', 'minute': 27, 'total': '428259', '_id': ObjectId('5b41d9500f1cc246d8fc702e'), 'amount': '2366.0718', 'day': 8, 'transaction_date': '2018-07-08 18:27:54', 'year': 2018, 'cont_no': '167070'}, {'Currency_Trade': 'Bithumb', 'hour': 19, 'type': 'ask', 'second': 12, 'timestamp': 1531045932.0, 'price': '181', 'month': 7, 'cointype': 'ADA', 'minute': 32, 'year': 2018, '_id': ObjectId('5b41e8bc0f1cc220e028ff90'), 'units_traded': '911.7226', 'day': 8, 'transaction_date': '2018-07-08 19:32:12', 'total': '165022', 'amount': '911.7226', 'cont_no': '167145'}, {'Currency_Trade': 'Bithumb', 'hour': 19, 'type': 'bid', 'second': 12, 'timestamp': 1531045812.0, 'price': '182', 'month': 7, 'cointype': 'ADA', 'minute': 30, 'year': 2018, '_id': ObjectId('5b41e8bc0f1cc220e028ff91'), 'units_traded': '1041.0824', 'day': 8, 'transaction_date': '2018-07-08 19:30:12', 'total': '189477', 'amount': '1041.0824', 'cont_no': '167144'}, {'Currency_Trade': 'Bithumb', 'hour': 19, 'type': 'bid', 'second': 50, 'timestamp': 1531045790.0, 'price': '182', 'month': 7, 'cointype': 'ADA', 'minute': 29, 'year': 2018, '_id': ObjectId('5b41e8bc0f1cc220e028ff92'), 'units_traded': '32.967033', 'day': 8, 'transaction_date': '2018-07-08 19:29:50', 'total': '6000', 'amount': '32.967033', 'cont_no': '167143'}, {'cointype': 'ADA', 'hour': 19, 'type': 'ask', 'second': 27, 'timestamp': 1531046187.0, 'price': '181', 'month': 7, 'Currency_Trade': 'Bithumb', 'minute': 36, 'total': '73885', '_id': ObjectId('5b41e9300f1cc24828078b74'), 'units_traded': '408.2028', 'day': 8, 'transaction_date': '2018-07-08 19:36:27', 'year': 2018, 'amount': '408.2028', 'cont_no': '167147'}, {'cointype': 'ADA', 'hour': 19, 'type': 'ask', 'second': 10, 'timestamp': 1531046170.0, 'price': '181', 'month': 7, 'Currency_Trade': 'Bithumb', 'minute': 36, 'total': '190594', '_id': ObjectId('5b41e9300f1cc24828078b75'), 'units_traded': '1053.0074', 'day': 8, 'transaction_date': '2018-07-08 19:36:10', 'year': 2018, 'amount': '1053.0074', 'cont_no': '167146'}, {'cointype': 'ADA', 'hour': 19, 'type': 'ask', 'second': 12, 'timestamp': 1531045932.0, 'price': '181', 'month': 7, 'Currency_Trade': 'Bithumb', 'minute': 32, 'total': '165022', '_id': ObjectId('5b41e9300f1cc24828078b76'), 'units_traded': '911.7226', 'day': 8, 'transaction_date': '2018-07-08 19:32:12', 'year': 2018, 'amount': '911.7226', 'cont_no': '167145'}]\n"
     ]
    }
   ],
   "source": [
    "from autotrading.db.mongodb import mongodb_handler\n",
    "mongodb = mongodb_handler.MongoDBHandler(\"local\",\"coiner\",\"price_info\")\n",
    "\n",
    "query = {\n",
    "    \"cointype\":\"ADA\",\n",
    "    \"Currency_Trade\":\"Bithumb\",\n",
    "    \"year\" : 2018,\n",
    "    \"month\" : 7\n",
    "}\n",
    "result = mongodb.find_items(query)\n",
    "\n",
    "result = list(result)\n"
   ]
  },
  {
   "cell_type": "markdown",
   "metadata": {},
   "source": [
    "## 데이터프레임(DataFrame)\n",
    "* pandas에서 제공하는 자료구조 중 가장 많이 쓰이는 자료구조이며, pandas가 제공하는 모든 기능의 핵심이다."
   ]
  },
  {
   "cell_type": "code",
   "execution_count": 61,
   "metadata": {},
   "outputs": [
    {
     "data": {
      "text/html": [
       "<div>\n",
       "<style scoped>\n",
       "    .dataframe tbody tr th:only-of-type {\n",
       "        vertical-align: middle;\n",
       "    }\n",
       "\n",
       "    .dataframe tbody tr th {\n",
       "        vertical-align: top;\n",
       "    }\n",
       "\n",
       "    .dataframe thead th {\n",
       "        text-align: right;\n",
       "    }\n",
       "</style>\n",
       "<table border=\"1\" class=\"dataframe\">\n",
       "  <thead>\n",
       "    <tr style=\"text-align: right;\">\n",
       "      <th></th>\n",
       "      <th>amount</th>\n",
       "      <th>price</th>\n",
       "      <th>transaction_date</th>\n",
       "    </tr>\n",
       "  </thead>\n",
       "  <tbody>\n",
       "    <tr>\n",
       "      <th>13</th>\n",
       "      <td>1053.0074</td>\n",
       "      <td>181.0</td>\n",
       "      <td>2018-07-08 19:36:10</td>\n",
       "    </tr>\n",
       "    <tr>\n",
       "      <th>14</th>\n",
       "      <td>911.7226</td>\n",
       "      <td>181.0</td>\n",
       "      <td>2018-07-08 19:32:12</td>\n",
       "    </tr>\n",
       "  </tbody>\n",
       "</table>\n",
       "</div>"
      ],
      "text/plain": [
       "       amount  price     transaction_date\n",
       "13  1053.0074  181.0  2018-07-08 19:36:10\n",
       "14   911.7226  181.0  2018-07-08 19:32:12"
      ]
     },
     "execution_count": 61,
     "metadata": {},
     "output_type": "execute_result"
    }
   ],
   "source": [
    "pd.set_option('precision',12)\n",
    "\n",
    "# 테이블 형태로 확인\n",
    "df = pd.DataFrame(result)\n",
    "\n",
    "# 인덱스는 transaction 칼럼은 amount, price\n",
    "df = pd.DataFrame(result, index = [item[\"transaction_date\"] for item in result], columns=['amount', 'price'])\n",
    "df\n",
    "\n",
    "# 인덱스는 지정안하고 amount, price, timestamp 칼럼만 지정해 보자\n",
    "# 그리고 amount는 수량 price는 가격이므로 데이터 타입이 필요하다.따라서 float 타입으로 바꾸겠다.\n",
    "df = pd.DataFrame(result, columns=['amount', 'price','transaction_date'])\n",
    "df['amount'] = df['amount'].astype(float)\n",
    "df['price'] = df['price'].astype(float)\n",
    "df\n",
    "\n",
    "\n",
    "# price 칼럼만 선택해보자\n",
    "df['price']\n",
    "\n",
    "# 레이블로 칼럼을 선택하는 loc에 대해 알아보자\n",
    "# ->레블 10에 해당하는 행의 칼럼명과 값이 시리즈 형태로 반환됨\n",
    "df.loc[10]\n",
    "\n",
    "# 숫자 위치로 행을 선택하는 iloc\n",
    "df.iloc[10]\n",
    "\n",
    "\n",
    "# price와 amount를 2배로 만든 수량,가격 각각  dboule_price, double_amount 칼럼명을 추가해보자\n",
    "\n",
    "df['double_price'] = df['price'] * 2\n",
    "# df['double_amount'] = df['amount'] * 2\n",
    "df\n",
    "\n",
    "# insert 메서드를 이용해서 amount 와 price칼럼 사이에 amount의 2배로 만든 double_amount이름을 추가해보자\n",
    "df.insert(0,'double_amount',df['amount']*2)\n",
    "df\n",
    "\n",
    "# 'double_price' 칼럼을 삭제해 보자\n",
    "# pop은 해당 칼럼을 시리즈로 반환하고 삭제한다.\n",
    "double_price = df.pop('double_price')\n",
    "double_price\n",
    "\n",
    "# del은 삭제만 한다.\n",
    "del df['double_amount']\n",
    "df\n",
    "\n",
    "# 데이터 프레임의 컬럼명만 출력해보자\n",
    "df.columns\n",
    "\n",
    "# 데이터 프레임의 값만 출럭해보자\n",
    "df.values\n",
    "\n",
    "\n",
    "# 데이터 프레임의 상위 2개 행만 출력해보자\n",
    "\n",
    "df.head(2)\n",
    "\n",
    "# 데이터 프래임의 하위 2개 행만 출력해보자\n",
    "\n",
    "df.tail(2)\n",
    "\n",
    "\n"
   ]
  },
  {
   "cell_type": "markdown",
   "metadata": {},
   "source": [
    "### 기본적인 함수를 이용한 데이터 가공"
   ]
  },
  {
   "cell_type": "code",
   "execution_count": null,
   "metadata": {},
   "outputs": [],
   "source": []
  }
 ],
 "metadata": {
  "kernelspec": {
   "display_name": "Python 3",
   "language": "python",
   "name": "python3"
  },
  "language_info": {
   "codemirror_mode": {
    "name": "ipython",
    "version": 3
   },
   "file_extension": ".py",
   "mimetype": "text/x-python",
   "name": "python",
   "nbconvert_exporter": "python",
   "pygments_lexer": "ipython3",
   "version": "3.5.5"
  }
 },
 "nbformat": 4,
 "nbformat_minor": 2
}
